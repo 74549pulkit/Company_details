{
 "cells": [
  {
   "cell_type": "code",
   "execution_count": 1,
   "metadata": {},
   "outputs": [],
   "source": [
    "import pandas as pd\n"
   ]
  },
  {
   "cell_type": "code",
   "execution_count": 2,
   "metadata": {},
   "outputs": [],
   "source": [
    "import selenium\n",
    "from selenium import webdriver\n",
    "from selenium.webdriver.common.keys import Keys\n",
    "from selenium.webdriver.common.by import By\n",
    "from selenium.webdriver.chrome.service import Service\n",
    "import os\n",
    "import time\n",
    "import requests\n",
    "import pandas as pd\n",
    "\n",
    "df1 = pd.read_csv(\"Data/stock_analysis_screener_usa.csv\")\n",
    "df2 = pd.read_csv(\"Data/stock_analysis_screener_OTC_USA.csv\")  "
   ]
  },
  {
   "cell_type": "code",
   "execution_count": null,
   "metadata": {},
   "outputs": [
    {
     "name": "stdout",
     "output_type": "stream",
     "text": [
      "Logo saved at: Data\\company_logos_stock_analysis\\Vertex_Pharmaceuticals_Incorporated_logo.svg\n"
     ]
    }
   ],
   "source": [
    "url=df1['Link'][0]+\"company/\"\n",
    "driver = webdriver.Chrome()\n",
    "driver.get(url)\n",
    "time.sleep(5)\n",
    "x_path1 = '//*[@id=\"main\"]/div[2]/div[1]'\n",
    "# Extract the text\n",
    "description_element = driver.find_element(By.XPATH, x_path1)\n",
    "description_text = description_element.text\n",
    "\n",
    "\n",
    "x_path2 = '//*[@id=\"main\"]/div[2]/div[2]'\n",
    "# Extract the element containing the company details\n",
    "company_details_element = driver.find_element(By.XPATH, x_path2)\n",
    "\n",
    "# Extract company name\n",
    "company_name = company_details_element.find_element(By.CLASS_NAME, \"text-2xl\").text\n",
    "\n",
    "# Extract the logo image URL and save it\n",
    "logo_element = company_details_element.find_element(By.TAG_NAME, \"img\")\n",
    "logo_url = logo_element.get_attribute(\"src\")\n",
    "\n",
    "# Directory to save the logo\n",
    "logo_dir = r\"Data\\company_logos_stock_analysis\"\n",
    "os.makedirs(logo_dir, exist_ok=True)\n",
    "\n",
    "# Save the logo image\n",
    "logo_filename = os.path.join(logo_dir, f\"{company_name.replace(' ', '_')}_logo.svg\")\n",
    "response = requests.get(logo_url)\n",
    "if response.status_code == 200:\n",
    "    with open(logo_filename, \"wb\") as logo_file:\n",
    "        logo_file.write(response.content)\n",
    "    print(f\"Logo saved at: {logo_filename}\")\n",
    "else:\n",
    "    print(f\"Failed to download logo from {logo_url}\")\n",
    "\n",
    "\n",
    "\n",
    "# Extract rows from the table\n",
    "rows = company_details_element.find_elements(By.TAG_NAME, \"tr\")\n",
    "\n",
    "# Parse table rows into a dictionary\n",
    "company_details = {\"Company Name\": company_name}\n",
    "\n",
    "company_details['Company description'] = description_text.split(\"\\n\", 1 )[-1]\n",
    "\n",
    "for row in rows:\n",
    "    cells = row.find_elements(By.TAG_NAME, \"td\")\n",
    "    if len(cells) == 1:\n",
    "        if  \"Address:\" in row.text.strip():\n",
    "            key = \"Address\"\n",
    "            value = row.text.replace( \"Address:\",\"\").strip()\n",
    "            company_details[key] = value\n",
    "        \n",
    "    if len(cells) == 2:\n",
    "        key = cells[0].text.strip()\n",
    "        value = cells[1].text.strip()\n",
    "        company_details[key] = value\n",
    "\n",
    "driver.quit()\n"
   ]
  },
  {
   "cell_type": "code",
   "execution_count": 26,
   "metadata": {},
   "outputs": [
    {
     "name": "stdout",
     "output_type": "stream",
     "text": [
      "**************************************************\n",
      "Company Name: Vertex Pharmaceuticals Incorporated\n",
      "**************************************************\n",
      "Company description: Vertex Pharmaceuticals Incorporated, a biotechnology company, engages in developing and commercializing therapies for treating cystic fibrosis (CF).\n",
      "It markets TRIKAFTA/KAFTRIO for people with CF with at least one F508del mutation for 2 years of age or older; SYMDEKO/SYMKEVI for people with CF for 6 years of age or older; ORKAMBI for CF patients 1 year or older; and KALYDECO for the treatment of patients with 1 year or older who have CF with ivacaftor.\n",
      "The company’s pipeline includes VX-522, a CFTR mRNA therapeutic designed to treat the underlying cause of CF, which is in Phase 1 clinical trial; VX-548, a non-opioid medicine for the treatment of acute and neuropathic pain which is in Phase 3 clinical trial; Exa-cel, for the treatment of sickle cell disease and transfusion-dependent beta thalassemia which is in Phase 2/3 clinical trial.\n",
      "In addition, it provides inaxaplin for the treatment of APOL1-mediated focal segmental glomerulosclerosis and co-morbidities, such as hypertension which is in single Phase 2/3; VX- 880 and VX-264, treatment for Type 1 Diabetes which is in Phase 1/2 clinical trial; VX-970, which is in Phase 2 clinical trial for the treatment of cancer; and VX-803 and VX-984 for treatment of cancer in Phase 1 clinical trial.\n",
      "Further, it sells the products to specialty pharmacy and specialty distributors in the United States, as well as retail pharmacies, hospitals, and clinics.\n",
      "Additionally, the company has collaborations with CRISPR Therapeutics AG.; Moderna, Inc.; Entrada Therapeutics, Inc.; Arbor Biotechnologies, Inc.; Mammoth Biosciences, Inc.; and Verve Therapeutics., as well as collaborations with Tevard Biosciences to develop novel tRNA-based therapies for duchenne muscular dystrophy.\n",
      "Vertex Pharmaceuticals Incorporated was founded in 1989 and is headquartered in Boston, Massachusetts.\n",
      "**************************************************\n",
      "Country: United States\n",
      "**************************************************\n",
      "Founded: 1989\n",
      "**************************************************\n",
      "IPO Date: Jul 24, 1991\n",
      "**************************************************\n",
      "Industry: Biotechnology\n",
      "**************************************************\n",
      "Sector: Healthcare\n",
      "**************************************************\n",
      "Employees: 5,400\n",
      "**************************************************\n",
      "CEO: Reshma Kewalramani\n",
      "**************************************************\n",
      "Address: 50 Northern Avenue\n",
      "Boston, Massachusetts 02210\n",
      "United States\n",
      "**************************************************\n",
      "Phone: 617 341 6100\n",
      "**************************************************\n",
      "Website: vrtx.com\n",
      "**************************************************\n",
      "Ticker Symbol: VRTX\n",
      "**************************************************\n",
      "Exchange: NASDAQ\n",
      "**************************************************\n",
      "Fiscal Year: January - December\n",
      "**************************************************\n",
      "Reporting Currency: USD\n",
      "**************************************************\n",
      "CIK Code: 0000875320\n",
      "**************************************************\n",
      "CUSIP Number: 92532F100\n",
      "**************************************************\n",
      "ISIN Number: US92532F1003\n",
      "**************************************************\n",
      "Employer ID: 04-3039129\n",
      "**************************************************\n",
      "SIC Code: 2834\n"
     ]
    }
   ],
   "source": [
    "\n",
    "for key, value in company_details.items():\n",
    "    print(\"*\"*50)\n",
    "    print(f\"{key}: {value}\")"
   ]
  },
  {
   "cell_type": "code",
   "execution_count": 3,
   "metadata": {},
   "outputs": [],
   "source": [
    "df1 = pd.read_csv(\"Data/stock_analysis_screener_usa.csv\")\n",
    "df2 = pd.read_csv(\"Data/stock_analysis_screener_OTC_USA.csv\")\n",
    "\n",
    "# Combine dataframes\n",
    "all_companies = pd.concat([df1, df2], ignore_index=True)\n"
   ]
  }
 ],
 "metadata": {
  "kernelspec": {
   "display_name": "Python 3",
   "language": "python",
   "name": "python3"
  },
  "language_info": {
   "codemirror_mode": {
    "name": "ipython",
    "version": 3
   },
   "file_extension": ".py",
   "mimetype": "text/x-python",
   "name": "python",
   "nbconvert_exporter": "python",
   "pygments_lexer": "ipython3",
   "version": "3.12.3"
  }
 },
 "nbformat": 4,
 "nbformat_minor": 2
}
